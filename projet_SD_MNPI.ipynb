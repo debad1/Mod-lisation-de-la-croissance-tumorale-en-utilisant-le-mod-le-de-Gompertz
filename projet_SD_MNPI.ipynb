{
  "nbformat": 4,
  "nbformat_minor": 0,
  "metadata": {
    "colab": {
      "provenance": []
    },
    "kernelspec": {
      "name": "python3",
      "display_name": "Python 3"
    },
    "language_info": {
      "name": "python"
    }
  },
  "cells": [
    {
      "cell_type": "markdown",
      "source": [
        "# Mini projet : Systèmes dynamiques & Méthodes numériques pour l'ingénieur\n",
        "\n"
      ],
      "metadata": {
        "id": "VMRoEeh5mSG6"
      }
    },
    {
      "cell_type": "markdown",
      "source": [
        "\n",
        "#<u>Titre du projet</u> : Modélisation de la croissance tumorale en utilisant le modèle de Gompertz\n",
        "\n",
        "### <u>Membres du projet</u>:\n",
        "  1. **BADOLO** Christian Thomas : algorithmes de résolution du système dynamique, programmation 'propre' comparaison entre les deux méthodes, saisie sous colab\n",
        "  2. **NIAMPA** Soumaïla : Description du phénomène étudié, problématique abordée et mise en équation, Bifurcation\n",
        "  3. **SEBEOGO** Landry Yves Joël : Étude de l'existence et de l'unicité de la solution, Étude de la stabilité des points fixes, Implémentation des algorithmes de résolution avec odeint\n",
        "  4. **YEBOUA** Franck : Schéma numérique, implémation et convergence, Bifurcation,Saisie sous colab\n",
        "  5.**ZONGO** Sosthène : Traçage les portraits de phases, Bifurcation, Calcul de l'ensemble Omega-limite et étude l'existence de cycles limites"
      ],
      "metadata": {
        "id": "ya4VJeG_mP69"
      }
    },
    {
      "cell_type": "markdown",
      "source": [
        "# <u> **0. Modélisation** </u>\n",
        "\n",
        "$\\hspace{1cm}$La croissance tumorale est un processus complexe et dynamique dans lequel des cellules cancéreuses se multiplient de manière désordonnée pour former une masse tumorale. Comprendre la dynamique de croissance tumorale est essentiel pour développer des stratégies de prévention, de diagnostic précoce et de traitement efficaces du cancer. La question centrale consiste à modéliser mathématiquement la croissance tumorale afin de mieux comprendre les mécanismes sous-jacents, d'évaluer l'efficacité des traitements et d'explorer de nouvelles approches thérapeutiques.\n",
        "\n",
        "$\\hspace{1cm}$Pour modéliser mathématiquement la croissance tumorale, nous établissons un système dynamique basé sur le modèle de $Gompertz$. En utilisant les notations suivantes :\n",
        "\n",
        "- $V(t)$ : volume de la tumeur à un moment t donné\n",
        "- $t$ : temps\n",
        "- $k$ : constante de croissance tumorale\n",
        "- $M$ : taille maximale théorique de la tumeur\n",
        "\n",
        "Le système dynamique peut être formulé comme suit :\n",
        "\n",
        "$\\frac{dV(t)}{dt} = k \\cdot V(t) \\cdot \\ln\\left(\\frac{M}{V(t)}\\right)$\n",
        "\n",
        "$\\hspace{1cm}$Cette équation différentielle représente la variation du volume de la tumeur $V(t)$ par rapport au temps $t$. La vitesse de croissance de la tumeur à un instant donné est représentée par le terme $k \\cdot V(t) \\cdot \\ln\\left(\\frac{M}{V(t)}\\right)$. La fonction logarithmique naturelle $(ln)$ est utilisée pour modéliser le ralentissement progressif de la croissance tumorale à mesure que la tumeur atteint une taille plus importante.\n",
        "\n",
        "$\\hspace{1cm}$Le système dynamique ainsi formulé permet de décrire comment le volume de la tumeur évolue au fil du temps en fonction des paramètres de croissance $k$ et $M$. L'analyse de ce système dynamique fourni des informations sur la croissance tumorale, telles que la vitesse de croissance initiale, le temps nécessaire pour atteindre une certaine taille et la relation entre la taille de la tumeur et la vitesse de croissance.\n",
        "\n",
        "# <u>1. **Etude théorique**</u>\n",
        "\n",
        "- <u>**Existence**</u>\n",
        "\n",
        "Posons $f(V,t) = kV\\ln\\left(\\frac{M}{V}\\right)$\n",
        "\n",
        "Pour tout $(V,t) \\in ]0,+\\infty[ \\times [t,+\\infty[$, $f$ est continue, $V$ est de classe $C^1$. D'après le théorème de $Peano$, une solution existe.\n",
        "\n",
        "- <u>**Unicité**</u>\n",
        "\n",
        "Soit $V_1, V_2$ $\\in ]0,+\\infty[^2$, tels que $V_1 < V_2$. On a :\n",
        "\n",
        "\\begin{align*}\n",
        "    f(V_1,t) - f(V_2,t) &= kV_1\\ln\\left(\\frac{M}{V_1}\\right) - kV_2\\ln\\left(\\frac{M}{V_2}\\right) \\\\\n",
        "    &= k(V_1(\\ln M - \\ln V_1) - V_2(\\ln M - \\ln V_2)) \\\\\n",
        "    &= k(V_1 - V_2)\\ln M - k(V_1\\ln V_1 - V_2\\ln V_2)\n",
        "\\end{align*}\n",
        "\n",
        "\n",
        "$|f(V_1,t) - f(V_2,t)| \\leq k|V_1 - V_2|\\ln M$ car $k(V_1\\ln V_1 - V_2\\ln V_2) > 0$\n",
        "\n",
        "Il en est de même si $V_1 > V_2$\n",
        "\n",
        "$f$ est lipschitzienne par rapport à la seconde variable $V$ d'où l'unicité de la solution.\n",
        "\n",
        "\n",
        "  - <u>**Etudier la dépendance continue par rapport à la condition initiale et la lois (la fonction f)**</u>\n",
        "\n",
        "  La dépendance continue de la solution par rapport à la condition initiale et à la fonction $f$ est assurée par le théorème de Cauchy-Lipschitz. En effet$f$ étant continue et lipschitzienne le théorème de Cauchy-Lipschitz assure que de petites variations dans la condition initiale ou dans la fonction $f$ entraîneront de petites variations dans la solution.\n",
        "  \n",
        "  - <u>**Etudier la stabilité des points fixes**</u>\n",
        "\n",
        "Un état déquilibre est atteint lorsque la tumeur n'évolue plus. Les points d'équilibres sont les valeurs $V^*$ pour les quelles $\\frac{dV(t)}{dt} = 0$\n",
        "\n",
        "Soit $V(t)\\ln\\left(\\frac{M}{V(t)}\\right) =0$\n",
        "\n",
        "Deux solutions sont possibles: soit $kV(t)=0$ soit $\\ln\\left(\\frac{M}{V(t)}\\right) =0$\n",
        "\n",
        "* Pour le permier point $V^*_1$:\n",
        "\n",
        "$kV(t)=0, k \\neq 0\\Leftrightarrow V(t) = 0$\n",
        "\n",
        "* Pour le deuxième point $V^*_2$:\n",
        "\n",
        "$k.V(t)\\ln\\left(\\frac{M}{V(t)}\\right) =0 \\Leftrightarrow \\left(\\frac{M}{V(t)}\\right) =1 \\Leftrightarrow V(t) = M$\n",
        "\n",
        "\n",
        "  \n",
        "Au point d'équilibre $V^*_1 = 0$, on a $\\frac{df}{dV}$ non défini car $\\ln(0)$ n'existe pas, mais $\\lim_{V\\to 0} \\frac{df}{dV} = +\\infty > 0$ $\\Longrightarrow$ $V^*_1$ est instable.\n",
        "\n",
        "Au point d'équilibre $V^*_2 = M$, on a $\\frac{df}{dV} = -k ≤ 0$, donc $V^*_2$ est asymptotiquement stable.\n"
      ],
      "metadata": {
        "id": "SwtD4Qk2p7RQ"
      }
    },
    {
      "cell_type": "markdown",
      "source": [
        "- <u>**On a les portraits de phases suivant**</u>\n",
        "\n"
      ],
      "metadata": {
        "id": "G9JFlWMsmVfe"
      }
    },
    {
      "cell_type": "code",
      "source": [
        "import matplotlib.pyplot as plt\n",
        "# Création de la figure et des axes\n",
        "fig, ax = plt.subplots()\n",
        "# Tracé initial\n",
        "ax.set_xlim(-1, 1)\n",
        "ax.set_ylim(-0.25, 0.25)\n",
        "ax.axis('off')\n",
        "# Ajout du texte\n",
        "ax.text(1, 0.1, r'$V(t)$')\n",
        "# Tracé des flèches\n",
        "ax.arrow(-1, 0, 2, 0, length_includes_head=True, head_width=0.01, color='black')\n",
        "# Tracé des points\n",
        "ax.scatter([-1, 0], [0, 0], marker='o')\n",
        "# Ajout du texte supplémentaire\n",
        "ax.text(-1, -0.1, '0')\n",
        "ax.text(0, -0.1, 'M')\n",
        "# Tracé des flèches rouges\n",
        "ax.arrow(-0.6, 0, 0.1, 0, length_includes_head=True, head_width=0.02, color='red', linewidth=2)\n",
        "ax.arrow(0.6, 0, -0.1, 0, length_includes_head=True, head_width=0.02, color='red', linewidth=2)\n",
        "# Affichage du graphique\n",
        "plt.show()"
      ],
      "metadata": {
        "colab": {
          "base_uri": "https://localhost:8080/",
          "height": 406
        },
        "id": "Je-TtNN8jfeg",
        "outputId": "73b190de-fd25-4089-9b3c-3b024f39673e"
      },
      "execution_count": null,
      "outputs": [
        {
          "output_type": "display_data",
          "data": {
            "text/plain": [
              "<Figure size 640x480 with 1 Axes>"
            ],
            "image/png": "[encoded data removed]"
          },
          "metadata": {}
        }
      ]
    },
    {
      "cell_type": "markdown",
      "source": [
        "\n",
        "  - <u> **L’ensemble Omega-limite** </u>\n",
        "\n",
        " $\\hspace{1cm}$Le système suivant ne contient que deux points d'équilibre dont un seul point asymptotiquement stable.\n",
        "\n",
        " $\\hspace{1cm}$Par définition du point asymptotiquement stable l'ensemble limite est ce point en l'occurence $M$.\n",
        "\n",
        "\n",
        "- <u>**Etudions l’existence de cycle limite**</u>\n",
        "\n",
        "Il n'y a pas de périodicité de la fonction $f$ il peut donc pas avoir de cycle limite\n"
      ],
      "metadata": {
        "id": "AslJ-EPhma0l"
      }
    },
    {
      "cell_type": "markdown",
      "source": [
        " - <u>**Bifurcation** </u>\n",
        "\n",
        "Soit $f(V,t) = k(V+c)\\ln\\left(\\frac{M}{V+c}\\right) $\n",
        "\n",
        "- <u>**Existence**</u>\n",
        "\n",
        "$f$ reste continue pour tout $(V,t,c)$\n",
        "\n",
        "* Unicité\n",
        "De la même façon le fait que $f$ reste lipschitzienne assure l'unicité de la solution\n",
        "\n",
        "<u>1. Points d'équilibre </u>\n",
        "\n",
        "Pour trouver les points d'équilibre, nous devons résoudre l'équation $f(V, t) = 0$ :\n",
        "\n",
        "$k(V+c)\\ln\\left(\\frac{M}{V+c}\\right) = 0$\n",
        "\n",
        "Cela peut se produire dans trois cas :\n",
        "\n",
        "   a) $V + c = 0$ : Dans ce cas, le point d'équilibre est $V = -c$, à condition que $-c$ ne soit pas négatif $c \\geq 0$.\n",
        "\n",
        "   b) $V + c \\neq 0$ et $\\frac{M}{V+c} = 1$ : Cela se produit lorsque $V + c = M$. Ainsi, le point d'équilibre est $V = M - c$, à condition que $M - c$ ne soit pas négatif $c \\leq M$.\n",
        "\n",
        "   c) $k = 0$ : Dans ce cas, le point d'équilibre est indéterminé.\n",
        "\n",
        "<u>2. Stabilité des points d'équilibre</u>\n",
        "\n",
        "Pour analyser la stabilité des points d'équilibre, nous devons étudier le comportement des valeurs de V autour de ces points en fonction de petites perturbations.\n",
        "\n",
        "   a) $V = -c$ : Si $-c \\geq 0$, alors $V = -c$ est stable, car une perturbation positive de V l'éloignera du point d'équilibre, qui ne peut pas être négatif.\n",
        "\n",
        "   b) $V = M - c$ : Si $M - c \\geq 0$, alors $V = M - c$ est stable, car une perturbation positive de V le rapprochera du point d'équilibre, qui ne peut pas être négatif.\n",
        "\n",
        "En résumé, en tenant compte du fait que $K$, $V$ et $M$ ne peuvent pas être négatifs, nous avons les conclusions suivantes :\n",
        "\n",
        "- Si $c \\geq 0$ et $M - c \\geq 0$ :\n",
        "   - $V = -c$ est stable.\n",
        "   - $V = M - c$ est stable.\n",
        "\n",
        "- Si $c < 0$ ou $M - c < 0$ :\n",
        "   - Les points d'équilibre ne sont pas valides et ne correspondent pas à des situations physiques réalistes.\n",
        "\n",
        "   - <u>Conclusion</u>  \n",
        "   On obtient dans ces cas les mème portrait de phase.\n"
      ],
      "metadata": {
        "id": "qng4IGkDfAtJ"
      }
    },
    {
      "cell_type": "markdown",
      "source": [
        "#<u> **2. Analyse numérique** </u>\n",
        "\n",
        "- <u>Schéma numérique </u>\n",
        "\n",
        "Pour résoudre numériquement l'équation différentielle $\\frac{dV(t)}{dt} = k \\cdot V(t) \\cdot \\ln\\left(\\frac{M}{V(t)}\\right)$, nous utilisons une méthode de discrétisation : la méthode d'Euler explicite.\n",
        "Le modèle de Gompertz peut être utilisé pour capturer les effets de retard dans la croissance tumorale. Le schéma d'Euler explicite est bien adapté pour prendre en compte ces retards en utilisant les valeurs de $V[n]$ à chaque pas de temps pour calculer $V[n+1]$, ce qui permet de modéliser la croissance tumorale de manière progressive au fil du temps.\n",
        "\n",
        "\n",
        "SOit $\\Delta t$ le pas de temps et$N$ le nombre d'itérations .\n",
        "\n",
        "Initialisons $V[0] = V_0$ pour la condition initiale.\n",
        "\n",
        "Calculer $V[n+1] = V[n] + \\Delta t \\cdot k \\cdot V[n] \\cdot \\ln(M/V[n])$\n",
        "\n",
        "- <u>Convergence du schéma numérique </u>\n",
        "\n",
        "* Stabilité:  \n",
        "On a\n",
        "$V[n+1] = V[n] + \\Delta t \\cdot f(Δt,V[n])$\n",
        "$f$ est lipschitzienne par rapport à la seconde variable $V$ qui assure la stabilite du schema.\n",
        "* Consistant:  \n",
        "Le schéma d'Euler peut etre ecrire de la façon suivante:\n",
        "$V[n+1] = V[n] + \\Delta t \\cdot ϕ(Δt,V[n],h)$;  \n",
        "Pour tous h , spéfiquement pour $h=0$ , on a:  \n",
        "$ϕ(Δt,V[n],0)=f(Δt,V[n])$; donc le schema est consistant.\n",
        "\n",
        "CONCLUSION: Le schéma est stable et consistant donc converge.\n"
      ],
      "metadata": {
        "id": "T6JkhvmvqQCA"
      }
    },
    {
      "cell_type": "markdown",
      "source": [
        "# 3. Implémentation"
      ],
      "metadata": {
        "id": "-RIS1v1EOHxr"
      }
    },
    {
      "cell_type": "code",
      "source": [
        "#Importation des différentes bibliothèques\n",
        "import numpy as np\n",
        "from scipy.integrate import odeint\n",
        "import matplotlib.pyplot as plt\n",
        "import time"
      ],
      "metadata": {
        "id": "sPd4Qt_avgJJ"
      },
      "execution_count": null,
      "outputs": []
    },
    {
      "cell_type": "code",
      "source": [
        "#Resolution du problème avec odeint\n",
        "def solver_python(V0, k, M, t_start, t_end, N):\n",
        "    t = np.linspace(t_start, t_end, N)\n",
        "    V = odeint(lambda V, t: k * V * np.log(M / V), V0, t)\n",
        "    return V"
      ],
      "metadata": {
        "id": "OTgIeMtYvlsC"
      },
      "execution_count": null,
      "outputs": []
    },
    {
      "cell_type": "code",
      "source": [
        "#Resolution du problème avec le schéma d'Euler explicite\n",
        "def solver_euler(V0, k, M, dt, N):\n",
        "    V = np.zeros(N)\n",
        "    V[0] = V0\n",
        "    for n in range(N-1):\n",
        "        V[n+1] = V[n] + dt * k * V[n] * np.log(M / V[n])\n",
        "    return V"
      ],
      "metadata": {
        "id": "YYe_pNzjtgRu"
      },
      "execution_count": null,
      "outputs": []
    },
    {
      "cell_type": "code",
      "source": [
        "#Solution réelle\n",
        "def V(t, V0, M, k):\n",
        "    return M * np.exp(np.log(V0/M) * np.exp(-k*t))"
      ],
      "metadata": {
        "id": "xRug-mPBEbCz"
      },
      "execution_count": null,
      "outputs": []
    },
    {
      "cell_type": "code",
      "source": [
        "#Calcul de l'erreur\n",
        "def error(true_data, computed_data):\n",
        "    error = np.abs(true_data - computed_data)\n",
        "    return error\n",
        "\n",
        "#Estimation du temps d'exécution\n",
        "def execution_time(code_function, *args):\n",
        "    start_time = time.time()\n",
        "    result = code_function(*args)\n",
        "    end_time = time.time()\n",
        "    execution_time = end_time - start_time\n",
        "    return result, execution_time"
      ],
      "metadata": {
        "id": "6vgNQXlyvtsg"
      },
      "execution_count": null,
      "outputs": []
    },
    {
      "cell_type": "code",
      "source": [
        "##Comparaison des deux methodes de resolution\n",
        "V0 = 0.1\n",
        "k = 0.1\n",
        "M = 1.0\n",
        "dt = 0.01\n",
        "N = 100\n",
        "# Exécution et mesure du temps pour la deuxième methode\n",
        "t_start = 0.0\n",
        "t_end = dt * N\n",
        "result_2, time_2 = execution_time(solver_python, V0, k, M, t_start, t_end, N)\n",
        "# Exécution et mesure du temps pour la premiere methode\n",
        "result_1, time_1 = execution_time(solver_euler, V0, k, M, dt, N)\n",
        "# Calcul de l'erreur entre les résultats\n",
        "error_value = error(result_2, result_1)\n",
        "print(\"Temps d'exécution euler : \", time_1)\n",
        "print(\"Temps d'exécution odeint : \", time_2)\n",
        "print(\"Erreur entre les résultats : \", error_value)"
      ],
      "metadata": {
        "id": "u37ffpXwKEqM",
        "colab": {
          "base_uri": "https://localhost:8080/"
        },
        "outputId": "c172e595-da15-45e4-cb47-caf3d1afae1a"
      },
      "execution_count": null,
      "outputs": [
        {
          "output_type": "stream",
          "name": "stdout",
          "text": [
            "Temps d'exécution euler :  0.0004162788391113281\n",
            "Temps d'exécution odeint :  0.0004982948303222656\n",
            "Erreur entre les résultats :  [[0.00000000e+00 2.30258509e-04 4.60816685e-04 ... 2.37061926e-02\n",
            "  2.39647195e-02 2.42235279e-02]\n",
            " [2.32737319e-04 2.47881008e-06 2.28079366e-04 ... 2.34734553e-02\n",
            "  2.37319822e-02 2.39907906e-02]\n",
            " [4.65780518e-04 2.35522009e-04 4.96383304e-06 ... 2.32404121e-02\n",
            "  2.34989390e-02 2.37577474e-02]\n",
            " ...\n",
            " [2.39746130e-02 2.37443545e-02 2.35137963e-02 ... 2.68420341e-04\n",
            "  9.89345677e-06 2.48914912e-04]\n",
            " [2.42361903e-02 2.40059318e-02 2.37753736e-02 ... 5.29997630e-04\n",
            "  2.71470746e-04 1.26623770e-05]\n",
            " [2.44980546e-02 2.42677961e-02 2.40372379e-02 ... 7.91861944e-04\n",
            "  5.33335059e-04 2.74526690e-04]]\n"
          ]
        }
      ]
    },
    {
      "cell_type": "markdown",
      "source": [
        "On constate que les differents erreurs sont relativents faibles."
      ],
      "metadata": {
        "id": "z6AVgN9RaL9t"
      }
    },
    {
      "cell_type": "markdown",
      "source": [
        "# 4.  Présentation des résultats et discussion\n"
      ],
      "metadata": {
        "id": "el99rplyqadX"
      }
    },
    {
      "cell_type": "code",
      "source": [
        "# Paramètres pour les deux solveurs\n",
        "V0 = 100\n",
        "k = 0.85\n",
        "M = 800\n",
        "t_start = 0.0\n",
        "t_end = 15\n",
        "N = 100\n",
        "dt = (t_end - t_start) / N\n",
        "\n",
        "#Intervalle de temps\n",
        "t = np.linspace(t_start, t_end, N)\n",
        "\n",
        "# Appel des solveurs\n",
        "V_python = solver_python(V0, k, M, t_start, t_end, N)\n",
        "V_euler = solver_euler(V0, k, M, dt, N)\n",
        "V_analytique = V(t, V0, M, k) #Solutoion réelle\n",
        "# Tracé des courbes\n",
        "plt.plot(t, V_python, label='solver_python')\n",
        "plt.plot(t, V_euler, label='solver_euler')\n",
        "plt.plot(t, V_analytique, label = 'solution_analytique')\n",
        "plt.xlabel('Temps')\n",
        "plt.ylabel('V')\n",
        "plt.legend()\n",
        "plt.show()\n"
      ],
      "metadata": {
        "colab": {
          "base_uri": "https://localhost:8080/",
          "height": 449
        },
        "id": "E-eqDssRxB4S",
        "outputId": "fa42a6cf-e5d2-4ba2-bd2e-050521268d79"
      },
      "execution_count": null,
      "outputs": [
        {
          "output_type": "display_data",
          "data": {
            "text/plain": [
              "<Figure size 640x480 with 1 Axes>"
            ],
            "image/png": "[encoded data removed]"
          },
          "metadata": {}
        }
      ]
    },
    {
      "cell_type": "markdown",
      "source": [
        "$\\hspace{1cm}$La courbe de modélisation présente une phase initiale de croissance exponentielle, suivie d'un ralentissement progressif de la croissance et finalement d'un plateau asymptotique. Ces phases représentent respectivement une croissance tumorale rapide, un effet de régulation intrinsèque et une limite à la croissance tumorale. L'interprétation de la courbe permet de comprendre les différentes phases de la croissance tumorale et peut avoir des implications pour les interventions thérapeutiques.\n",
        "L'utilisation du schéma d'Euler permet de suivre l'évolution de la croissance tumorale sur une durée plus longue, en déterminant le volume de la tumeur à des instants réguliers. Cela peut fournir des informations sur la croissance tumorale à long terme et aider à analyser les tendances et les caractéristiques du phénomène.\n",
        "Le modèle utiliser permet de décrire l'évolution en temps continue, de même le schéma utilisé fournit des erreurs relativement faibles.\n",
        "\n",
        "Aussi notre projet aurait dû être assez complet si nous avions eu accès à des données réels de patients. Malheureusement, toutes nos tentatives pour avoir accès à des datasets réels se sont avérées un echec.Néanmoins notre modèle fournit une bonne aproximation au vue des erreurs relativement faible obtenus par rapport à Odeint.\n"
      ],
      "metadata": {
        "id": "FWCHcCDILU89"
      }
    }
  ]
}